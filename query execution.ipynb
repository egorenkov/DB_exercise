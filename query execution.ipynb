{
 "cells": [
  {
   "cell_type": "code",
   "execution_count": 53,
   "id": "9b245273-971d-46ff-8172-64f003b508ac",
   "metadata": {},
   "outputs": [],
   "source": [
    "import pandas as pd\n",
    "import sqlite3"
   ]
  },
  {
   "cell_type": "code",
   "execution_count": 55,
   "id": "d27c50e7-efb9-4a63-b951-eb650158450d",
   "metadata": {},
   "outputs": [
    {
     "data": {
      "text/html": [
       "<div>\n",
       "<style scoped>\n",
       "    .dataframe tbody tr th:only-of-type {\n",
       "        vertical-align: middle;\n",
       "    }\n",
       "\n",
       "    .dataframe tbody tr th {\n",
       "        vertical-align: top;\n",
       "    }\n",
       "\n",
       "    .dataframe thead th {\n",
       "        text-align: right;\n",
       "    }\n",
       "</style>\n",
       "<table border=\"1\" class=\"dataframe\">\n",
       "  <thead>\n",
       "    <tr style=\"text-align: right;\">\n",
       "      <th></th>\n",
       "      <th>launch_id</th>\n",
       "      <th>position</th>\n",
       "      <th>status</th>\n",
       "      <th>launch_place</th>\n",
       "      <th>launch_data</th>\n",
       "    </tr>\n",
       "  </thead>\n",
       "  <tbody>\n",
       "    <tr>\n",
       "      <th>0</th>\n",
       "      <td>1</td>\n",
       "      <td>1 E</td>\n",
       "      <td>retired</td>\n",
       "      <td>2700</td>\n",
       "      <td>1999-02-26</td>\n",
       "    </tr>\n",
       "    <tr>\n",
       "      <th>1</th>\n",
       "      <td>2</td>\n",
       "      <td>2 E</td>\n",
       "      <td>retired</td>\n",
       "      <td>2790</td>\n",
       "      <td>1993-05-12</td>\n",
       "    </tr>\n",
       "    <tr>\n",
       "      <th>2</th>\n",
       "      <td>3</td>\n",
       "      <td>2 E</td>\n",
       "      <td>active</td>\n",
       "      <td>3669</td>\n",
       "      <td>2017-06-23</td>\n",
       "    </tr>\n",
       "    <tr>\n",
       "      <th>3</th>\n",
       "      <td>4</td>\n",
       "      <td>3 E</td>\n",
       "      <td>active</td>\n",
       "      <td>6396</td>\n",
       "      <td>2022-09-07</td>\n",
       "    </tr>\n",
       "    <tr>\n",
       "      <th>4</th>\n",
       "      <td>5</td>\n",
       "      <td>3 E</td>\n",
       "      <td>deorbited</td>\n",
       "      <td>2283</td>\n",
       "      <td>1995-12-06</td>\n",
       "    </tr>\n",
       "  </tbody>\n",
       "</table>\n",
       "</div>"
      ],
      "text/plain": [
       "   launch_id position     status  launch_place launch_data\n",
       "0          1      1 E    retired          2700  1999-02-26\n",
       "1          2      2 E    retired          2790  1993-05-12\n",
       "2          3      2 E     active          3669  2017-06-23\n",
       "3          4      3 E     active          6396  2022-09-07\n",
       "4          5      3 E  deorbited          2283  1995-12-06"
      ]
     },
     "execution_count": 55,
     "metadata": {},
     "output_type": "execute_result"
    }
   ],
   "source": [
    "launches = pd.read_csv('launch_df.csv')\n",
    "launches.head()"
   ]
  },
  {
   "cell_type": "code",
   "execution_count": 57,
   "id": "b2d88d0e-e152-4c21-b16a-215e9fc6cadd",
   "metadata": {},
   "outputs": [
    {
     "data": {
      "text/html": [
       "<div>\n",
       "<style scoped>\n",
       "    .dataframe tbody tr th:only-of-type {\n",
       "        vertical-align: middle;\n",
       "    }\n",
       "\n",
       "    .dataframe tbody tr th {\n",
       "        vertical-align: top;\n",
       "    }\n",
       "\n",
       "    .dataframe thead th {\n",
       "        text-align: right;\n",
       "    }\n",
       "</style>\n",
       "<table border=\"1\" class=\"dataframe\">\n",
       "  <thead>\n",
       "    <tr style=\"text-align: right;\">\n",
       "      <th></th>\n",
       "      <th>launch_id</th>\n",
       "      <th>name</th>\n",
       "      <th>model</th>\n",
       "      <th>operator</th>\n",
       "      <th>object_id</th>\n",
       "    </tr>\n",
       "  </thead>\n",
       "  <tbody>\n",
       "    <tr>\n",
       "      <th>0</th>\n",
       "      <td>1</td>\n",
       "      <td>BADR 3 (Arabsat 3A)</td>\n",
       "      <td>Spacebus-3000B2</td>\n",
       "      <td>Arabsat</td>\n",
       "      <td>1</td>\n",
       "    </tr>\n",
       "    <tr>\n",
       "      <th>1</th>\n",
       "      <td>2</td>\n",
       "      <td>Astra 1C</td>\n",
       "      <td>HS-601</td>\n",
       "      <td>SES S.A.</td>\n",
       "      <td>2</td>\n",
       "    </tr>\n",
       "    <tr>\n",
       "      <th>2</th>\n",
       "      <td>3</td>\n",
       "      <td>BulgariaSat-1</td>\n",
       "      <td>LS-1300</td>\n",
       "      <td>BulgariaSat</td>\n",
       "      <td>3</td>\n",
       "    </tr>\n",
       "    <tr>\n",
       "      <th>3</th>\n",
       "      <td>4</td>\n",
       "      <td>Eutelsat Konnect VHTS</td>\n",
       "      <td>Spacebus NEO</td>\n",
       "      <td>Eutelsat Communications S.A.</td>\n",
       "      <td>4</td>\n",
       "    </tr>\n",
       "    <tr>\n",
       "      <th>4</th>\n",
       "      <td>5</td>\n",
       "      <td>Telecom 2C</td>\n",
       "      <td>Eurostar-2000</td>\n",
       "      <td>France Telecom</td>\n",
       "      <td>5</td>\n",
       "    </tr>\n",
       "  </tbody>\n",
       "</table>\n",
       "</div>"
      ],
      "text/plain": [
       "   launch_id                   name            model  \\\n",
       "0          1    BADR 3 (Arabsat 3A)  Spacebus-3000B2   \n",
       "1          2               Astra 1C           HS-601   \n",
       "2          3          BulgariaSat-1          LS-1300   \n",
       "3          4  Eutelsat Konnect VHTS     Spacebus NEO   \n",
       "4          5             Telecom 2C    Eurostar-2000   \n",
       "\n",
       "                       operator  object_id  \n",
       "0                       Arabsat          1  \n",
       "1                      SES S.A.          2  \n",
       "2                   BulgariaSat          3  \n",
       "3  Eutelsat Communications S.A.          4  \n",
       "4                France Telecom          5  "
      ]
     },
     "execution_count": 57,
     "metadata": {},
     "output_type": "execute_result"
    }
   ],
   "source": [
    "objects = pd.read_csv('objects_df.csv')\n",
    "objects.head()"
   ]
  },
  {
   "cell_type": "code",
   "execution_count": 59,
   "id": "f61355d8-5c49-4ae7-a3aa-7006cd497bbb",
   "metadata": {},
   "outputs": [],
   "source": [
    "\n",
    "conn = sqlite3.connect('space_objects.db')\n",
    "\n",
    "\n",
    "launches.to_sql('launches', conn, if_exists='replace', index=False,\n",
    "                  dtype={\n",
    "                      'launch_id': 'INTEGER PRIMARY KEY',\n",
    "                      'position': 'TEXT',\n",
    "                      'status': 'TEXT', \n",
    "                      'launch_place': 'TEXT',\n",
    "                      'launch_data': 'DATA'\n",
    "                  })\n",
    "\n",
    "objects.to_sql('objects', conn, if_exists='replace', index=False,\n",
    "                 dtype={\n",
    "                     'object_id': 'INTEGER PRIMARY KEY',\n",
    "                     'launch_id': 'INTEGER',\n",
    "                     'name': 'TEXT',\n",
    "                     'model': 'TEXT',\n",
    "                     'operator': 'TEXT',\n",
    "                     'FOREIGN KEY (launch_id)': 'REFERENCES launches(launch_id)'\n",
    "                 })\n",
    "\n",
    "conn.close()"
   ]
  },
  {
   "cell_type": "code",
   "execution_count": 61,
   "id": "efc14d29-4930-4837-a964-f503b92efcd2",
   "metadata": {},
   "outputs": [],
   "source": [
    "conn = sqlite3.connect('space_objects.db')"
   ]
  },
  {
   "cell_type": "code",
   "execution_count": 63,
   "id": "63ae4e30-5148-43a6-a33c-c6c753e8e11b",
   "metadata": {},
   "outputs": [],
   "source": [
    "def query(conn, query):\n",
    "    print(pd.read_sql(query, conn))"
   ]
  },
  {
   "cell_type": "code",
   "execution_count": 65,
   "id": "94f91d4f-341e-42ad-a71e-e09ec699151c",
   "metadata": {},
   "outputs": [
    {
     "name": "stdout",
     "output_type": "stream",
     "text": [
      "     launch_id position     status launch_place launch_data\n",
      "0            1      1 E    retired         2700  1999-02-26\n",
      "1            2      2 E    retired         2790  1993-05-12\n",
      "2            3      2 E     active         3669  2017-06-23\n",
      "3            4      3 E     active         6396  2022-09-07\n",
      "4            5      3 E  deorbited         2283  1995-12-06\n",
      "..         ...      ...        ...          ...         ...\n",
      "622        623      1 W     active         3049  2009-10-29\n",
      "623        624      1 W     active         4600  2015-04-26\n",
      "624        625      1 W     active         1500  1999-02-26\n",
      "625        626      1 W     active         5576  2004-06-16\n",
      "626        627      1 W     active         1960  2008-02-11\n",
      "\n",
      "[627 rows x 5 columns]\n"
     ]
    }
   ],
   "source": [
    "query(conn, 'SELECT * FROM launches')"
   ]
  },
  {
   "cell_type": "code",
   "execution_count": 67,
   "id": "e9baa563-668a-4c63-919c-60002f704507",
   "metadata": {},
   "outputs": [
    {
     "name": "stdout",
     "output_type": "stream",
     "text": [
      "     launch_id position   status\n",
      "0            1      1 E  retired\n",
      "1            2      2 E  retired\n",
      "2            9      4 E  retired\n",
      "3           10      4 E  retired\n",
      "4           18     10 E  retired\n",
      "..         ...      ...      ...\n",
      "136        605      8 W  retired\n",
      "137        606      8 W  retired\n",
      "138        612      7 W  retired\n",
      "139        616      4 W  retired\n",
      "140        617      4 W  retired\n",
      "\n",
      "[141 rows x 3 columns]\n"
     ]
    }
   ],
   "source": [
    "query(conn, \"SELECT launch_id, position, status FROM launches where status = 'retired'\")"
   ]
  },
  {
   "cell_type": "code",
   "execution_count": 69,
   "id": "c31d97fb-177d-4dec-902c-e84f4b4d9aa8",
   "metadata": {},
   "outputs": [
    {
     "name": "stdout",
     "output_type": "stream",
     "text": [
      "     launch_id position     status launch_place launch_data\n",
      "0            1      1 E    retired         2700  1999-02-26\n",
      "1            3      2 E     active         3669  2017-06-23\n",
      "2            4      3 E     active         6396  2022-09-07\n",
      "3            6      3 E  deorbited         3160  2007-12-21\n",
      "4            7      3 E     active         3050  2010-08-04\n",
      "..         ...      ...        ...          ...         ...\n",
      "466        623      1 W     active         3049  2009-10-29\n",
      "467        624      1 W     active         4600  2015-04-26\n",
      "468        625      1 W     active         1500  1999-02-26\n",
      "469        626      1 W     active         5576  2004-06-16\n",
      "470        627      1 W     active         1960  2008-02-11\n",
      "\n",
      "[471 rows x 5 columns]\n"
     ]
    }
   ],
   "source": [
    "query(conn, \"SELECT * from launches where launch_data between '1999-02-26' and '2022-09-07'\")"
   ]
  },
  {
   "cell_type": "code",
   "execution_count": 73,
   "id": "6f8d9975-1988-4817-af81-cd8969c076d1",
   "metadata": {},
   "outputs": [
    {
     "name": "stdout",
     "output_type": "stream",
     "text": [
      "      status\n",
      "0    retired\n",
      "1     active\n",
      "2  deorbited\n",
      "3     failed\n",
      "4   disabled\n",
      "5    testing\n",
      "6     moving\n",
      "7    planned\n"
     ]
    }
   ],
   "source": [
    "query(conn, \"select distinct status from launches\")"
   ]
  },
  {
   "cell_type": "code",
   "execution_count": 79,
   "id": "41e0fb49-33e1-422f-bb03-4628679519f1",
   "metadata": {},
   "outputs": [
    {
     "name": "stdout",
     "output_type": "stream",
     "text": [
      "      status  quntity\n",
      "0  deorbited       72\n",
      "1   disabled       10\n",
      "2     failed       28\n",
      "3     moving        6\n",
      "4    testing        6\n"
     ]
    }
   ],
   "source": [
    "query(conn, \"Select status, count(*) as quntity from launches group by status having count(*) > 5 and count(*) < 100;\")  "
   ]
  },
  {
   "cell_type": "code",
   "execution_count": 81,
   "id": "19c1b663-6839-4d0c-9739-52046782c5f5",
   "metadata": {},
   "outputs": [
    {
     "name": "stdout",
     "output_type": "stream",
     "text": [
      "     launch_id     status                                               name  \\\n",
      "0            1    retired                                BADR 3 (Arabsat 3A)   \n",
      "1            2    retired                                           Astra 1C   \n",
      "2            3     active                                      BulgariaSat-1   \n",
      "3            4     active                              Eutelsat Konnect VHTS   \n",
      "4            5  deorbited                                         Telecom 2C   \n",
      "..         ...        ...                                                ...   \n",
      "622        623     active                        Thor 6 (Intelsat 1W, IS-1W)   \n",
      "623        624     active                                             Thor 7   \n",
      "624        625     active                                          Skynet 4E   \n",
      "625        626     active  Intelsat 10-02 + MEV2 (Intelsat 1002, Intelsat...   \n",
      "626        627     active                                   Thor 5 (Thor 2R)   \n",
      "\n",
      "               model  \n",
      "0    Spacebus-3000B2  \n",
      "1             HS-601  \n",
      "2            LS-1300  \n",
      "3       Spacebus NEO  \n",
      "4      Eurostar-2000  \n",
      "..               ...  \n",
      "622  Spacebus-4000B2  \n",
      "623          LS-1300  \n",
      "624          ECS Bus  \n",
      "625    Eurostar-3000  \n",
      "626        GEOStar-2  \n",
      "\n",
      "[627 rows x 4 columns]\n"
     ]
    }
   ],
   "source": [
    "query(conn, \"\"\"select l.launch_id, l.status, o.name, o.model\n",
    "                from launches l\n",
    "                join objects o on o.launch_id = l.launch_id\n",
    "\"\"\")"
   ]
  },
  {
   "cell_type": "code",
   "execution_count": 83,
   "id": "2f04f28a-b944-4886-9517-bf786bc15dce",
   "metadata": {},
   "outputs": [
    {
     "name": "stdout",
     "output_type": "stream",
     "text": [
      "                                     operator\n",
      "0                                     Arabsat\n",
      "1                                    SES S.A.\n",
      "2                                 BulgariaSat\n",
      "3                Eutelsat Communications S.A.\n",
      "4                              France Telecom\n",
      "..                                        ...\n",
      "81                  AOneSat Communications AG\n",
      "82          Agence Spatiale Algerienne (ASAL)\n",
      "83       Nilesat (The Egyptian Satellite Co.)\n",
      "84  JAXA (Japan Aerospace Exploration Agency)\n",
      "85                       Government of Israel\n",
      "\n",
      "[86 rows x 1 columns]\n"
     ]
    }
   ],
   "source": [
    "query(conn, \"SELECt distinct operator from objects\")"
   ]
  },
  {
   "cell_type": "code",
   "execution_count": 89,
   "id": "d60879f5-99f9-4248-ba09-4911d84621bf",
   "metadata": {},
   "outputs": [
    {
     "name": "stdout",
     "output_type": "stream",
     "text": [
      "   launch_id   status operator\n",
      "0          1  retired  Arabsat\n",
      "1         39   active  Arabsat\n",
      "2         53   active  Arabsat\n",
      "3         54   active  Arabsat\n",
      "4         55   active  Arabsat\n",
      "5         56  retired  Arabsat\n",
      "6         57   active  Arabsat\n",
      "7         64   active  Arabsat\n",
      "8         65   active  Arabsat\n",
      "9         77  retired  Arabsat\n"
     ]
    }
   ],
   "source": [
    "query(conn, \"\"\"\n",
    "    select l.launch_id, l.status, o.operator\n",
    "    from launches l\n",
    "    join objects o on l.launch_id = o.launch_id\n",
    "    where o.operator = 'Arabsat';\n",
    "\"\"\")"
   ]
  },
  {
   "cell_type": "code",
   "execution_count": 91,
   "id": "97bfd23f-334c-4b2d-95b3-098a2164bf30",
   "metadata": {},
   "outputs": [
    {
     "name": "stdout",
     "output_type": "stream",
     "text": [
      "   launch_id position   status launch_place launch_data\n",
      "0          2      2 E  retired         2790  1993-05-12\n"
     ]
    }
   ],
   "source": [
    "query(conn, \"\"\"\n",
    "    select *\n",
    "    from launches\n",
    "    where status = 'retired' and position = '2 E';\n",
    "\"\"\")"
   ]
  },
  {
   "cell_type": "code",
   "execution_count": 97,
   "id": "c714f0c0-a841-4f18-af54-e41b0e705b3b",
   "metadata": {},
   "outputs": [
    {
     "name": "stdout",
     "output_type": "stream",
     "text": [
      "     launch_id position   status launch_place launch_data  order_number\n",
      "0            3      2 E   active         3669  2017-06-23             1\n",
      "1            4      3 E   active         6396  2022-09-07             2\n",
      "2            7      3 E   active         3050  2010-08-04             3\n",
      "3            8      3 E   active         5967  2014-05-27             4\n",
      "4           11      5 E   active         4600  2007-11-18             5\n",
      "..         ...      ...      ...          ...         ...           ...\n",
      "622        159     68 E  testing         4700  2024-11-18             2\n",
      "623        261    113 E  testing         4000  2024-02-20             3\n",
      "624        267    116 E  testing         3500  2024-11-11             4\n",
      "625        474     89 W  testing         6400  2023-05-01             5\n",
      "626        594     16 W  testing         4100  2006-03-11             6\n",
      "\n",
      "[627 rows x 6 columns]\n"
     ]
    }
   ],
   "source": [
    "query(conn, \"\"\"\n",
    "    select * , \n",
    "        rank(*) over(partition by status order by launch_id) as order_number\n",
    "    from launches;\n",
    "\"\"\")"
   ]
  },
  {
   "cell_type": "code",
   "execution_count": 101,
   "id": "dc37ccbd-03a6-4f21-883c-a4c11c457edb",
   "metadata": {},
   "outputs": [
    {
     "name": "stdout",
     "output_type": "stream",
     "text": [
      "     launch_id position     status launch_place launch_data\n",
      "0          355    178 E    retired         4215  1989-10-27\n",
      "1          503     80 W  deorbited         4215  1990-03-14\n",
      "2          103     47 E    retired         4330  1991-10-29\n",
      "3          331    157 E  deorbited         4180  1995-05-17\n",
      "4          553     53 W    retired         4180  1996-03-14\n",
      "..         ...      ...        ...          ...         ...\n",
      "216         94     42 E     active         4300  2024-07-08\n",
      "217        159     68 E    testing         4700  2024-11-18\n",
      "218         97     44 E    testing         5000  2025-01-04\n",
      "219        251    110 E     active         5500  2025-02-22\n",
      "220        213     92 E     active         5500  2025-06-20\n",
      "\n",
      "[221 rows x 5 columns]\n"
     ]
    }
   ],
   "source": [
    "query(\n",
    "    conn,\n",
    "    \"\"\"\n",
    "    SELECT *\n",
    "    FROM launches\n",
    "    where launch_place > 4000 and launch_place < 6000\n",
    "    order by launch_data;\n",
    "    \"\"\"    \n",
    ")"
   ]
  },
  {
   "cell_type": "code",
   "execution_count": 103,
   "id": "36049e28-87fa-47b5-a857-795ced6d6674",
   "metadata": {},
   "outputs": [
    {
     "name": "stdout",
     "output_type": "stream",
     "text": [
      "     launch_id                                               name  \\\n",
      "0            1                                BADR 3 (Arabsat 3A)   \n",
      "1            2                                           Astra 1C   \n",
      "2            3                                      BulgariaSat-1   \n",
      "3            4                              Eutelsat Konnect VHTS   \n",
      "4            5                                         Telecom 2C   \n",
      "..         ...                                                ...   \n",
      "622        623                        Thor 6 (Intelsat 1W, IS-1W)   \n",
      "623        624                                             Thor 7   \n",
      "624        625                                          Skynet 4E   \n",
      "625        626  Intelsat 10-02 + MEV2 (Intelsat 1002, Intelsat...   \n",
      "626        627                                   Thor 5 (Thor 2R)   \n",
      "\n",
      "               model                                           operator  \\\n",
      "0    Spacebus-3000B2                                            Arabsat   \n",
      "1             HS-601                                           SES S.A.   \n",
      "2            LS-1300                                        BulgariaSat   \n",
      "3       Spacebus NEO                       Eutelsat Communications S.A.   \n",
      "4      Eurostar-2000                                     France Telecom   \n",
      "..               ...                                                ...   \n",
      "622  Spacebus-4000B2                                    Space Norway AS   \n",
      "623          LS-1300                                    Space Norway AS   \n",
      "624          ECS Bus  Paradigm Secure Communications Ltd (EADS Company)   \n",
      "625    Eurostar-3000                                           Intelsat   \n",
      "626        GEOStar-2                                    Space Norway AS   \n",
      "\n",
      "     object_id  \n",
      "0            1  \n",
      "1            2  \n",
      "2            3  \n",
      "3            4  \n",
      "4            5  \n",
      "..         ...  \n",
      "622        623  \n",
      "623        624  \n",
      "624        625  \n",
      "625        626  \n",
      "626        627  \n",
      "\n",
      "[627 rows x 5 columns]\n"
     ]
    }
   ],
   "source": [
    "query(\n",
    "    conn,\n",
    "    \"\"\"\n",
    "    SELECT l.launch_id, o.model, count(*) as quantity\n",
    "    from objects o\n",
    "    join launches l on l.launch_id = o.launch_id\n",
    "    group by model\n",
    "    having count(*) > 5\n",
    "    \"\"\"\n",
    ")\n"
   ]
  },
  {
   "cell_type": "code",
   "execution_count": null,
   "id": "5c2b4b67-40d0-4161-a358-eb8cede953bf",
   "metadata": {},
   "outputs": [],
   "source": [
    "conn.close()"
   ]
  }
 ],
 "metadata": {
  "kernelspec": {
   "display_name": "Python 3 (ipykernel)",
   "language": "python",
   "name": "python3"
  },
  "language_info": {
   "codemirror_mode": {
    "name": "ipython",
    "version": 3
   },
   "file_extension": ".py",
   "mimetype": "text/x-python",
   "name": "python",
   "nbconvert_exporter": "python",
   "pygments_lexer": "ipython3",
   "version": "3.12.4"
  }
 },
 "nbformat": 4,
 "nbformat_minor": 5
}
